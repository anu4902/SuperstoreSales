{
  "nbformat": 4,
  "nbformat_minor": 0,
  "metadata": {
    "colab": {
      "name": "SuperStore_Sales.ipynb",
      "provenance": [],
      "collapsed_sections": []
    },
    "kernelspec": {
      "name": "python3",
      "display_name": "Python 3"
    },
    "language_info": {
      "name": "python"
    }
  },
  "cells": [
    {
      "cell_type": "markdown",
      "source": [
        "# **Superstore Sales** "
      ],
      "metadata": {
        "id": "k_lUP1qb5eWs"
      }
    },
    {
      "cell_type": "code",
      "execution_count": null,
      "metadata": {
        "id": "NAApULfiuM8D"
      },
      "outputs": [],
      "source": [
        "import pandas as pd\n",
        "import numpy as np\n",
        "import matplotlib.pyplot as plt\n",
        "import seaborn as sns"
      ]
    },
    {
      "cell_type": "markdown",
      "source": [
        "**Load Dataset**"
      ],
      "metadata": {
        "id": "_MQ0f-bk4u5I"
      }
    },
    {
      "cell_type": "code",
      "source": [
        "from google.colab import drive\n",
        "drive.mount('/content/drive')"
      ],
      "metadata": {
        "colab": {
          "base_uri": "https://localhost:8080/"
        },
        "id": "9SgkEn6Z1IHW",
        "outputId": "d54bba61-a535-45b7-b67d-8b5cd79568df"
      },
      "execution_count": null,
      "outputs": [
        {
          "output_type": "stream",
          "name": "stdout",
          "text": [
            "Drive already mounted at /content/drive; to attempt to forcibly remount, call drive.mount(\"/content/drive\", force_remount=True).\n"
          ]
        }
      ]
    },
    {
      "cell_type": "code",
      "source": [
        "df=pd.read_csv(\"/content/drive/MyDrive/US Superstore data.csv\",parse_dates=['Order Date','Ship Date'])"
      ],
      "metadata": {
        "id": "gheBu1bJwTTX"
      },
      "execution_count": null,
      "outputs": []
    },
    {
      "cell_type": "code",
      "source": [
        "df.head()"
      ],
      "metadata": {
        "colab": {
          "base_uri": "https://localhost:8080/",
          "height": 664
        },
        "id": "TXPKdpr3wetT",
        "outputId": "633b1451-3845-46ce-b604-7ccd8a1c8b1d"
      },
      "execution_count": null,
      "outputs": [
        {
          "output_type": "execute_result",
          "data": {
            "text/plain": [
              "   Row ID        Order ID Order Date  Ship Date       Ship Mode Customer ID  \\\n",
              "0    7981  CA-2014-103800 2014-03-01 2014-07-01  Standard Class    DP-13000   \n",
              "1     740  CA-2014-112326 2014-04-01 2014-08-01  Standard Class    PO-19195   \n",
              "2     741  CA-2014-112326 2014-04-01 2014-08-01  Standard Class    PO-19195   \n",
              "3     742  CA-2014-112326 2014-04-01 2014-08-01  Standard Class    PO-19195   \n",
              "4    1760  CA-2014-141817 2014-05-01 2014-12-01  Standard Class    MB-18085   \n",
              "\n",
              "   Customer Name      Segment        Country          City  ... Postal Code  \\\n",
              "0  Darren Powers     Consumer  United States       Houston  ...       77095   \n",
              "1  Phillina Ober  Home Office  United States    Naperville  ...       60540   \n",
              "2  Phillina Ober  Home Office  United States    Naperville  ...       60540   \n",
              "3  Phillina Ober  Home Office  United States    Naperville  ...       60540   \n",
              "4     Mick Brown     Consumer  United States  Philadelphia  ...       19143   \n",
              "\n",
              "    Region       Product ID         Category Sub-Category  \\\n",
              "0  Central  OFF-PA-10000174  Office Supplies        Paper   \n",
              "1  Central  OFF-LA-10003223  Office Supplies       Labels   \n",
              "2  Central  OFF-ST-10002743  Office Supplies      Storage   \n",
              "3  Central  OFF-BI-10004094  Office Supplies      Binders   \n",
              "4     East  OFF-AR-10003478  Office Supplies          Art   \n",
              "\n",
              "                                        Product Name    Sales  Quantity  \\\n",
              "0  Message Book, Wirebound, Four 5 1/2\" X 4\" Form...   16.448         2   \n",
              "1                                          Avery 508   11.784         3   \n",
              "2                      SAFCO Boltless Steel Shelving  272.736         3   \n",
              "3         GBC Standard Plastic Binding Systems Combs    3.540         2   \n",
              "4  Avery Hi-Liter EverBold Pen Style Fluorescent ...   19.536         3   \n",
              "\n",
              "   Discount   Profit  \n",
              "0       0.2   5.5512  \n",
              "1       0.2   4.2717  \n",
              "2       0.2 -64.7748  \n",
              "3       0.8  -5.4870  \n",
              "4       0.2   4.8840  \n",
              "\n",
              "[5 rows x 21 columns]"
            ],
            "text/html": [
              "\n",
              "  <div id=\"df-5a624740-4866-462a-82d4-e29cc8307e81\">\n",
              "    <div class=\"colab-df-container\">\n",
              "      <div>\n",
              "<style scoped>\n",
              "    .dataframe tbody tr th:only-of-type {\n",
              "        vertical-align: middle;\n",
              "    }\n",
              "\n",
              "    .dataframe tbody tr th {\n",
              "        vertical-align: top;\n",
              "    }\n",
              "\n",
              "    .dataframe thead th {\n",
              "        text-align: right;\n",
              "    }\n",
              "</style>\n",
              "<table border=\"1\" class=\"dataframe\">\n",
              "  <thead>\n",
              "    <tr style=\"text-align: right;\">\n",
              "      <th></th>\n",
              "      <th>Row ID</th>\n",
              "      <th>Order ID</th>\n",
              "      <th>Order Date</th>\n",
              "      <th>Ship Date</th>\n",
              "      <th>Ship Mode</th>\n",
              "      <th>Customer ID</th>\n",
              "      <th>Customer Name</th>\n",
              "      <th>Segment</th>\n",
              "      <th>Country</th>\n",
              "      <th>City</th>\n",
              "      <th>...</th>\n",
              "      <th>Postal Code</th>\n",
              "      <th>Region</th>\n",
              "      <th>Product ID</th>\n",
              "      <th>Category</th>\n",
              "      <th>Sub-Category</th>\n",
              "      <th>Product Name</th>\n",
              "      <th>Sales</th>\n",
              "      <th>Quantity</th>\n",
              "      <th>Discount</th>\n",
              "      <th>Profit</th>\n",
              "    </tr>\n",
              "  </thead>\n",
              "  <tbody>\n",
              "    <tr>\n",
              "      <th>0</th>\n",
              "      <td>7981</td>\n",
              "      <td>CA-2014-103800</td>\n",
              "      <td>2014-03-01</td>\n",
              "      <td>2014-07-01</td>\n",
              "      <td>Standard Class</td>\n",
              "      <td>DP-13000</td>\n",
              "      <td>Darren Powers</td>\n",
              "      <td>Consumer</td>\n",
              "      <td>United States</td>\n",
              "      <td>Houston</td>\n",
              "      <td>...</td>\n",
              "      <td>77095</td>\n",
              "      <td>Central</td>\n",
              "      <td>OFF-PA-10000174</td>\n",
              "      <td>Office Supplies</td>\n",
              "      <td>Paper</td>\n",
              "      <td>Message Book, Wirebound, Four 5 1/2\" X 4\" Form...</td>\n",
              "      <td>16.448</td>\n",
              "      <td>2</td>\n",
              "      <td>0.2</td>\n",
              "      <td>5.5512</td>\n",
              "    </tr>\n",
              "    <tr>\n",
              "      <th>1</th>\n",
              "      <td>740</td>\n",
              "      <td>CA-2014-112326</td>\n",
              "      <td>2014-04-01</td>\n",
              "      <td>2014-08-01</td>\n",
              "      <td>Standard Class</td>\n",
              "      <td>PO-19195</td>\n",
              "      <td>Phillina Ober</td>\n",
              "      <td>Home Office</td>\n",
              "      <td>United States</td>\n",
              "      <td>Naperville</td>\n",
              "      <td>...</td>\n",
              "      <td>60540</td>\n",
              "      <td>Central</td>\n",
              "      <td>OFF-LA-10003223</td>\n",
              "      <td>Office Supplies</td>\n",
              "      <td>Labels</td>\n",
              "      <td>Avery 508</td>\n",
              "      <td>11.784</td>\n",
              "      <td>3</td>\n",
              "      <td>0.2</td>\n",
              "      <td>4.2717</td>\n",
              "    </tr>\n",
              "    <tr>\n",
              "      <th>2</th>\n",
              "      <td>741</td>\n",
              "      <td>CA-2014-112326</td>\n",
              "      <td>2014-04-01</td>\n",
              "      <td>2014-08-01</td>\n",
              "      <td>Standard Class</td>\n",
              "      <td>PO-19195</td>\n",
              "      <td>Phillina Ober</td>\n",
              "      <td>Home Office</td>\n",
              "      <td>United States</td>\n",
              "      <td>Naperville</td>\n",
              "      <td>...</td>\n",
              "      <td>60540</td>\n",
              "      <td>Central</td>\n",
              "      <td>OFF-ST-10002743</td>\n",
              "      <td>Office Supplies</td>\n",
              "      <td>Storage</td>\n",
              "      <td>SAFCO Boltless Steel Shelving</td>\n",
              "      <td>272.736</td>\n",
              "      <td>3</td>\n",
              "      <td>0.2</td>\n",
              "      <td>-64.7748</td>\n",
              "    </tr>\n",
              "    <tr>\n",
              "      <th>3</th>\n",
              "      <td>742</td>\n",
              "      <td>CA-2014-112326</td>\n",
              "      <td>2014-04-01</td>\n",
              "      <td>2014-08-01</td>\n",
              "      <td>Standard Class</td>\n",
              "      <td>PO-19195</td>\n",
              "      <td>Phillina Ober</td>\n",
              "      <td>Home Office</td>\n",
              "      <td>United States</td>\n",
              "      <td>Naperville</td>\n",
              "      <td>...</td>\n",
              "      <td>60540</td>\n",
              "      <td>Central</td>\n",
              "      <td>OFF-BI-10004094</td>\n",
              "      <td>Office Supplies</td>\n",
              "      <td>Binders</td>\n",
              "      <td>GBC Standard Plastic Binding Systems Combs</td>\n",
              "      <td>3.540</td>\n",
              "      <td>2</td>\n",
              "      <td>0.8</td>\n",
              "      <td>-5.4870</td>\n",
              "    </tr>\n",
              "    <tr>\n",
              "      <th>4</th>\n",
              "      <td>1760</td>\n",
              "      <td>CA-2014-141817</td>\n",
              "      <td>2014-05-01</td>\n",
              "      <td>2014-12-01</td>\n",
              "      <td>Standard Class</td>\n",
              "      <td>MB-18085</td>\n",
              "      <td>Mick Brown</td>\n",
              "      <td>Consumer</td>\n",
              "      <td>United States</td>\n",
              "      <td>Philadelphia</td>\n",
              "      <td>...</td>\n",
              "      <td>19143</td>\n",
              "      <td>East</td>\n",
              "      <td>OFF-AR-10003478</td>\n",
              "      <td>Office Supplies</td>\n",
              "      <td>Art</td>\n",
              "      <td>Avery Hi-Liter EverBold Pen Style Fluorescent ...</td>\n",
              "      <td>19.536</td>\n",
              "      <td>3</td>\n",
              "      <td>0.2</td>\n",
              "      <td>4.8840</td>\n",
              "    </tr>\n",
              "  </tbody>\n",
              "</table>\n",
              "<p>5 rows × 21 columns</p>\n",
              "</div>\n",
              "      <button class=\"colab-df-convert\" onclick=\"convertToInteractive('df-5a624740-4866-462a-82d4-e29cc8307e81')\"\n",
              "              title=\"Convert this dataframe to an interactive table.\"\n",
              "              style=\"display:none;\">\n",
              "        \n",
              "  <svg xmlns=\"http://www.w3.org/2000/svg\" height=\"24px\"viewBox=\"0 0 24 24\"\n",
              "       width=\"24px\">\n",
              "    <path d=\"M0 0h24v24H0V0z\" fill=\"none\"/>\n",
              "    <path d=\"M18.56 5.44l.94 2.06.94-2.06 2.06-.94-2.06-.94-.94-2.06-.94 2.06-2.06.94zm-11 1L8.5 8.5l.94-2.06 2.06-.94-2.06-.94L8.5 2.5l-.94 2.06-2.06.94zm10 10l.94 2.06.94-2.06 2.06-.94-2.06-.94-.94-2.06-.94 2.06-2.06.94z\"/><path d=\"M17.41 7.96l-1.37-1.37c-.4-.4-.92-.59-1.43-.59-.52 0-1.04.2-1.43.59L10.3 9.45l-7.72 7.72c-.78.78-.78 2.05 0 2.83L4 21.41c.39.39.9.59 1.41.59.51 0 1.02-.2 1.41-.59l7.78-7.78 2.81-2.81c.8-.78.8-2.07 0-2.86zM5.41 20L4 18.59l7.72-7.72 1.47 1.35L5.41 20z\"/>\n",
              "  </svg>\n",
              "      </button>\n",
              "      \n",
              "  <style>\n",
              "    .colab-df-container {\n",
              "      display:flex;\n",
              "      flex-wrap:wrap;\n",
              "      gap: 12px;\n",
              "    }\n",
              "\n",
              "    .colab-df-convert {\n",
              "      background-color: #E8F0FE;\n",
              "      border: none;\n",
              "      border-radius: 50%;\n",
              "      cursor: pointer;\n",
              "      display: none;\n",
              "      fill: #1967D2;\n",
              "      height: 32px;\n",
              "      padding: 0 0 0 0;\n",
              "      width: 32px;\n",
              "    }\n",
              "\n",
              "    .colab-df-convert:hover {\n",
              "      background-color: #E2EBFA;\n",
              "      box-shadow: 0px 1px 2px rgba(60, 64, 67, 0.3), 0px 1px 3px 1px rgba(60, 64, 67, 0.15);\n",
              "      fill: #174EA6;\n",
              "    }\n",
              "\n",
              "    [theme=dark] .colab-df-convert {\n",
              "      background-color: #3B4455;\n",
              "      fill: #D2E3FC;\n",
              "    }\n",
              "\n",
              "    [theme=dark] .colab-df-convert:hover {\n",
              "      background-color: #434B5C;\n",
              "      box-shadow: 0px 1px 3px 1px rgba(0, 0, 0, 0.15);\n",
              "      filter: drop-shadow(0px 1px 2px rgba(0, 0, 0, 0.3));\n",
              "      fill: #FFFFFF;\n",
              "    }\n",
              "  </style>\n",
              "\n",
              "      <script>\n",
              "        const buttonEl =\n",
              "          document.querySelector('#df-5a624740-4866-462a-82d4-e29cc8307e81 button.colab-df-convert');\n",
              "        buttonEl.style.display =\n",
              "          google.colab.kernel.accessAllowed ? 'block' : 'none';\n",
              "\n",
              "        async function convertToInteractive(key) {\n",
              "          const element = document.querySelector('#df-5a624740-4866-462a-82d4-e29cc8307e81');\n",
              "          const dataTable =\n",
              "            await google.colab.kernel.invokeFunction('convertToInteractive',\n",
              "                                                     [key], {});\n",
              "          if (!dataTable) return;\n",
              "\n",
              "          const docLinkHtml = 'Like what you see? Visit the ' +\n",
              "            '<a target=\"_blank\" href=https://colab.research.google.com/notebooks/data_table.ipynb>data table notebook</a>'\n",
              "            + ' to learn more about interactive tables.';\n",
              "          element.innerHTML = '';\n",
              "          dataTable['output_type'] = 'display_data';\n",
              "          await google.colab.output.renderOutput(dataTable, element);\n",
              "          const docLink = document.createElement('div');\n",
              "          docLink.innerHTML = docLinkHtml;\n",
              "          element.appendChild(docLink);\n",
              "        }\n",
              "      </script>\n",
              "    </div>\n",
              "  </div>\n",
              "  "
            ]
          },
          "metadata": {},
          "execution_count": 4
        }
      ]
    },
    {
      "cell_type": "code",
      "source": [
        "df.shape"
      ],
      "metadata": {
        "colab": {
          "base_uri": "https://localhost:8080/"
        },
        "id": "P1uUtGbhwf1a",
        "outputId": "76c4511c-5c15-41b8-a5ea-6df89aa54156"
      },
      "execution_count": null,
      "outputs": [
        {
          "output_type": "execute_result",
          "data": {
            "text/plain": [
              "(9994, 21)"
            ]
          },
          "metadata": {},
          "execution_count": 5
        }
      ]
    },
    {
      "cell_type": "code",
      "source": [
        "df.columns"
      ],
      "metadata": {
        "colab": {
          "base_uri": "https://localhost:8080/"
        },
        "id": "-ZoRpMJo6vXn",
        "outputId": "940be3a2-4e7f-48ef-ad6a-5ab50d62099e"
      },
      "execution_count": null,
      "outputs": [
        {
          "output_type": "execute_result",
          "data": {
            "text/plain": [
              "Index(['Row ID', 'Order ID', 'Order Date', 'Ship Date', 'Ship Mode',\n",
              "       'Customer ID', 'Customer Name', 'Segment', 'Country', 'City', 'State',\n",
              "       'Postal Code', 'Region', 'Product ID', 'Category', 'Sub-Category',\n",
              "       'Product Name', 'Sales', 'Quantity', 'Discount', 'Profit'],\n",
              "      dtype='object')"
            ]
          },
          "metadata": {},
          "execution_count": 6
        }
      ]
    },
    {
      "cell_type": "markdown",
      "source": [
        "**Remove redundant data**"
      ],
      "metadata": {
        "id": "YBbfGtc84ziz"
      }
    },
    {
      "cell_type": "code",
      "source": [
        "df.drop('Row ID',axis=1,inplace=True)"
      ],
      "metadata": {
        "id": "teLPCxG5wlWf"
      },
      "execution_count": null,
      "outputs": []
    },
    {
      "cell_type": "code",
      "source": [
        "df.Country.value_counts()"
      ],
      "metadata": {
        "colab": {
          "base_uri": "https://localhost:8080/"
        },
        "id": "ACirdDklwuhX",
        "outputId": "3ed232b6-74b1-4095-bd52-4fe4da17d910"
      },
      "execution_count": null,
      "outputs": [
        {
          "output_type": "execute_result",
          "data": {
            "text/plain": [
              "United States    9994\n",
              "Name: Country, dtype: int64"
            ]
          },
          "metadata": {},
          "execution_count": 8
        }
      ]
    },
    {
      "cell_type": "code",
      "source": [
        "df.drop('Country',axis=1,inplace=True)"
      ],
      "metadata": {
        "id": "2Dk2uhaRwxh8"
      },
      "execution_count": null,
      "outputs": []
    },
    {
      "cell_type": "markdown",
      "source": [
        "**Change data type of columns as required**"
      ],
      "metadata": {
        "id": "Vd3v9vt-440s"
      }
    },
    {
      "cell_type": "code",
      "source": [
        "df.info()"
      ],
      "metadata": {
        "colab": {
          "base_uri": "https://localhost:8080/"
        },
        "id": "1TjcC36ew-9k",
        "outputId": "29fa4a3b-8b6e-42cf-fe1f-84cc31fc04e9"
      },
      "execution_count": null,
      "outputs": [
        {
          "output_type": "stream",
          "name": "stdout",
          "text": [
            "<class 'pandas.core.frame.DataFrame'>\n",
            "RangeIndex: 9994 entries, 0 to 9993\n",
            "Data columns (total 19 columns):\n",
            " #   Column         Non-Null Count  Dtype         \n",
            "---  ------         --------------  -----         \n",
            " 0   Order ID       9994 non-null   object        \n",
            " 1   Order Date     9994 non-null   datetime64[ns]\n",
            " 2   Ship Date      9994 non-null   datetime64[ns]\n",
            " 3   Ship Mode      9994 non-null   object        \n",
            " 4   Customer ID    9994 non-null   object        \n",
            " 5   Customer Name  9994 non-null   object        \n",
            " 6   Segment        9994 non-null   object        \n",
            " 7   City           9994 non-null   object        \n",
            " 8   State          9994 non-null   object        \n",
            " 9   Postal Code    9994 non-null   int64         \n",
            " 10  Region         9994 non-null   object        \n",
            " 11  Product ID     9994 non-null   object        \n",
            " 12  Category       9994 non-null   object        \n",
            " 13  Sub-Category   9994 non-null   object        \n",
            " 14  Product Name   9994 non-null   object        \n",
            " 15  Sales          9994 non-null   float64       \n",
            " 16  Quantity       9994 non-null   int64         \n",
            " 17  Discount       9994 non-null   float64       \n",
            " 18  Profit         9994 non-null   float64       \n",
            "dtypes: datetime64[ns](2), float64(3), int64(2), object(12)\n",
            "memory usage: 1.4+ MB\n"
          ]
        }
      ]
    },
    {
      "cell_type": "markdown",
      "source": [
        "**Check for missing values**"
      ],
      "metadata": {
        "id": "3FR75rNm5Awg"
      }
    },
    {
      "cell_type": "code",
      "source": [
        "df.isnull().sum()"
      ],
      "metadata": {
        "colab": {
          "base_uri": "https://localhost:8080/"
        },
        "id": "pZoZCpMG2TOx",
        "outputId": "d3318bcd-8010-403e-b520-f4ef2202a5ec"
      },
      "execution_count": null,
      "outputs": [
        {
          "output_type": "execute_result",
          "data": {
            "text/plain": [
              "Order ID         0\n",
              "Order Date       0\n",
              "Ship Date        0\n",
              "Ship Mode        0\n",
              "Customer ID      0\n",
              "Customer Name    0\n",
              "Segment          0\n",
              "City             0\n",
              "State            0\n",
              "Postal Code      0\n",
              "Region           0\n",
              "Product ID       0\n",
              "Category         0\n",
              "Sub-Category     0\n",
              "Product Name     0\n",
              "Sales            0\n",
              "Quantity         0\n",
              "Discount         0\n",
              "Profit           0\n",
              "dtype: int64"
            ]
          },
          "metadata": {},
          "execution_count": 11
        }
      ]
    },
    {
      "cell_type": "markdown",
      "source": [
        "**Check for duplicate rows**"
      ],
      "metadata": {
        "id": "1goaKNA_731d"
      }
    },
    {
      "cell_type": "code",
      "source": [
        "df.duplicated().sum()"
      ],
      "metadata": {
        "colab": {
          "base_uri": "https://localhost:8080/"
        },
        "id": "FDIUHT857qxj",
        "outputId": "34aefb67-628c-4c66-8ebf-2e9684e2553f"
      },
      "execution_count": null,
      "outputs": [
        {
          "output_type": "execute_result",
          "data": {
            "text/plain": [
              "1"
            ]
          },
          "metadata": {},
          "execution_count": 12
        }
      ]
    },
    {
      "cell_type": "code",
      "source": [
        "df.drop_duplicates(inplace=True)"
      ],
      "metadata": {
        "id": "RTyJzVZz7u5b"
      },
      "execution_count": null,
      "outputs": []
    },
    {
      "cell_type": "markdown",
      "source": [
        "# Let's explore the superstore sales"
      ],
      "metadata": {
        "id": "8m-kxyr_5QSl"
      }
    },
    {
      "cell_type": "markdown",
      "source": [
        "**Which segment contributed to the most sales?**"
      ],
      "metadata": {
        "id": "77c-l11DKu9U"
      }
    },
    {
      "cell_type": "code",
      "source": [
        "df.groupby('Segment').Sales.sum().sort_values(ascending=False)"
      ],
      "metadata": {
        "colab": {
          "base_uri": "https://localhost:8080/"
        },
        "id": "7oINhTnM4jo6",
        "outputId": "1faeeb27-7646-473f-8af3-212f0ca7d5aa"
      },
      "execution_count": null,
      "outputs": [
        {
          "output_type": "execute_result",
          "data": {
            "text/plain": [
              "Segment\n",
              "Consumer       1.161401e+06\n",
              "Corporate      7.061464e+05\n",
              "Home Office    4.293718e+05\n",
              "Name: Sales, dtype: float64"
            ]
          },
          "metadata": {},
          "execution_count": 14
        }
      ]
    },
    {
      "cell_type": "markdown",
      "source": [
        "**Which state contributed to the most sales?**"
      ],
      "metadata": {
        "id": "JTDQowv5KxZB"
      }
    },
    {
      "cell_type": "code",
      "source": [
        "df.groupby('State').Sales.sum().sort_values(ascending=False)"
      ],
      "metadata": {
        "colab": {
          "base_uri": "https://localhost:8080/"
        },
        "id": "bKbM3RSv6Db1",
        "outputId": "e559d0ab-64ee-4083-ca90-69b7ebd36fdf"
      },
      "execution_count": null,
      "outputs": [
        {
          "output_type": "execute_result",
          "data": {
            "text/plain": [
              "State\n",
              "California              457687.6315\n",
              "New York                310876.2710\n",
              "Texas                   170188.0458\n",
              "Washington              138641.2700\n",
              "Pennsylvania            116511.9140\n",
              "Florida                  89473.7080\n",
              "Illinois                 80166.1010\n",
              "Ohio                     77976.7640\n",
              "Michigan                 76269.6140\n",
              "Virginia                 70636.7200\n",
              "North Carolina           55603.1640\n",
              "Indiana                  53555.3600\n",
              "Georgia                  49095.8400\n",
              "Kentucky                 36591.7500\n",
              "New Jersey               35764.3120\n",
              "Arizona                  35282.0010\n",
              "Wisconsin                32114.6100\n",
              "Colorado                 32108.1180\n",
              "Tennessee                30661.8730\n",
              "Minnesota                29863.1500\n",
              "Massachusetts            28634.4340\n",
              "Delaware                 27451.0690\n",
              "Maryland                 23705.5230\n",
              "Rhode Island             22627.9560\n",
              "Missouri                 22205.1500\n",
              "Oklahoma                 19683.3900\n",
              "Alabama                  19510.6400\n",
              "Oregon                   17431.1500\n",
              "Nevada                   16729.1020\n",
              "Connecticut              13384.3570\n",
              "Arkansas                 11678.1300\n",
              "Utah                     11220.0560\n",
              "Mississippi              10771.3400\n",
              "Louisiana                 9217.0300\n",
              "Vermont                   8929.3700\n",
              "South Carolina            8481.7100\n",
              "Nebraska                  7464.9300\n",
              "New Hampshire             7292.5240\n",
              "Montana                   5589.3520\n",
              "New Mexico                4783.5220\n",
              "Iowa                      4579.7600\n",
              "Idaho                     4382.4860\n",
              "Kansas                    2914.3100\n",
              "District of Columbia      2865.0200\n",
              "Wyoming                   1603.1360\n",
              "South Dakota              1315.5600\n",
              "Maine                     1270.5300\n",
              "West Virginia             1209.8240\n",
              "North Dakota               919.9100\n",
              "Name: Sales, dtype: float64"
            ]
          },
          "metadata": {},
          "execution_count": 15
        }
      ]
    },
    {
      "cell_type": "markdown",
      "source": [
        "**Which category items have been purchased the most?**"
      ],
      "metadata": {
        "id": "JT-thrYQKzzK"
      }
    },
    {
      "cell_type": "code",
      "source": [
        "df.Category.value_counts()"
      ],
      "metadata": {
        "colab": {
          "base_uri": "https://localhost:8080/"
        },
        "id": "FYpG0AbC6iri",
        "outputId": "f0f76268-ab85-4a39-88a0-43dae836380d"
      },
      "execution_count": null,
      "outputs": [
        {
          "output_type": "execute_result",
          "data": {
            "text/plain": [
              "Office Supplies    6026\n",
              "Furniture          2120\n",
              "Technology         1847\n",
              "Name: Category, dtype: int64"
            ]
          },
          "metadata": {},
          "execution_count": 16
        }
      ]
    },
    {
      "cell_type": "code",
      "source": [
        "df.groupby('Category').Sales.sum().sort_values(ascending=False)"
      ],
      "metadata": {
        "colab": {
          "base_uri": "https://localhost:8080/"
        },
        "id": "1HuzA1mw6Z1q",
        "outputId": "0df9a795-0ddb-413b-fd38-86122097de1c"
      },
      "execution_count": null,
      "outputs": [
        {
          "output_type": "execute_result",
          "data": {
            "text/plain": [
              "Category\n",
              "Technology         836154.0330\n",
              "Furniture          741718.4233\n",
              "Office Supplies    719047.0320\n",
              "Name: Sales, dtype: float64"
            ]
          },
          "metadata": {},
          "execution_count": 17
        }
      ]
    },
    {
      "cell_type": "markdown",
      "source": [
        "**Which mode of shipment is most preferred?**"
      ],
      "metadata": {
        "id": "6ZssTbrUK-5W"
      }
    },
    {
      "cell_type": "code",
      "source": [
        "df['Ship Mode'].value_counts()"
      ],
      "metadata": {
        "colab": {
          "base_uri": "https://localhost:8080/"
        },
        "id": "uhPsBUpl66D8",
        "outputId": "e118a406-6c5d-4305-ee67-cef21615a942"
      },
      "execution_count": null,
      "outputs": [
        {
          "output_type": "execute_result",
          "data": {
            "text/plain": [
              "Standard Class    5967\n",
              "Second Class      1945\n",
              "First Class       1538\n",
              "Same Day           543\n",
              "Name: Ship Mode, dtype: int64"
            ]
          },
          "metadata": {},
          "execution_count": 18
        }
      ]
    },
    {
      "cell_type": "markdown",
      "source": [
        "**Which mode of shipment contributed to most sales?**"
      ],
      "metadata": {
        "id": "CfKgtfmDMSsE"
      }
    },
    {
      "cell_type": "code",
      "source": [
        "df.groupby('Ship Mode').Sales.sum().sort_values(ascending=False)"
      ],
      "metadata": {
        "colab": {
          "base_uri": "https://localhost:8080/"
        },
        "id": "Djc8PyQ76fxX",
        "outputId": "6315a950-b58d-4300-bd8d-e87dbe573fa4"
      },
      "execution_count": null,
      "outputs": [
        {
          "output_type": "execute_result",
          "data": {
            "text/plain": [
              "Ship Mode\n",
              "Standard Class    1.357934e+06\n",
              "Second Class      4.591936e+05\n",
              "First Class       3.514284e+05\n",
              "Same Day          1.283631e+05\n",
              "Name: Sales, dtype: float64"
            ]
          },
          "metadata": {},
          "execution_count": 19
        }
      ]
    },
    {
      "cell_type": "markdown",
      "source": [
        "**Top Selling products**"
      ],
      "metadata": {
        "id": "gvKX3j2JMfHN"
      }
    },
    {
      "cell_type": "code",
      "source": [
        "df['Product Name'].value_counts().sort_values(ascending=False)[:10]"
      ],
      "metadata": {
        "colab": {
          "base_uri": "https://localhost:8080/"
        },
        "id": "LPox_oS1j1ZY",
        "outputId": "0ac7a01a-b5af-4593-cad3-144b0f801477"
      },
      "execution_count": null,
      "outputs": [
        {
          "output_type": "execute_result",
          "data": {
            "text/plain": [
              "Staple envelope                                              48\n",
              "Staples                                                      46\n",
              "Easy-staple paper                                            46\n",
              "Avery Non-Stick Binders                                      20\n",
              "Staples in misc. colors                                      19\n",
              "Staple remover                                               18\n",
              "KI Adjustable-Height Table                                   18\n",
              "Storex Dura Pro Binders                                      17\n",
              "Staple-based wall hangings                                   16\n",
              "Logitech 910-002974 M325 Wireless Mouse for Web Scrolling    15\n",
              "Name: Product Name, dtype: int64"
            ]
          },
          "metadata": {},
          "execution_count": 20
        }
      ]
    },
    {
      "cell_type": "markdown",
      "source": [
        "**Which state contributed to high profits?**"
      ],
      "metadata": {
        "id": "9XBPhDWjNBzz"
      }
    },
    {
      "cell_type": "code",
      "source": [
        "df.groupby('State').Profit.sum().sort_values(ascending=False)[:10]"
      ],
      "metadata": {
        "colab": {
          "base_uri": "https://localhost:8080/"
        },
        "id": "SymBdfILNGp1",
        "outputId": "78ebd241-a1c9-4373-f840-9f099e33e818"
      },
      "execution_count": null,
      "outputs": [
        {
          "output_type": "execute_result",
          "data": {
            "text/plain": [
              "State\n",
              "California    76381.3871\n",
              "New York      74038.5486\n",
              "Washington    33402.6517\n",
              "Michigan      24463.1876\n",
              "Virginia      18597.9504\n",
              "Indiana       18382.9363\n",
              "Georgia       16250.0433\n",
              "Kentucky      11199.6966\n",
              "Minnesota     10823.1874\n",
              "Delaware       9977.3748\n",
              "Name: Profit, dtype: float64"
            ]
          },
          "metadata": {},
          "execution_count": 21
        }
      ]
    },
    {
      "cell_type": "markdown",
      "source": [
        "**Which products have been offered highest discount?**"
      ],
      "metadata": {
        "id": "IHD7MBzkNV-Q"
      }
    },
    {
      "cell_type": "code",
      "source": [
        "df.groupby('Category').Discount.mean().sort_values(ascending=False)"
      ],
      "metadata": {
        "colab": {
          "base_uri": "https://localhost:8080/"
        },
        "id": "SQLI5h73NUrH",
        "outputId": "fa012c58-21ec-4c59-ed59-aa5e2eefb792"
      },
      "execution_count": null,
      "outputs": [
        {
          "output_type": "execute_result",
          "data": {
            "text/plain": [
              "Category\n",
              "Furniture          0.173863\n",
              "Office Supplies    0.157285\n",
              "Technology         0.132323\n",
              "Name: Discount, dtype: float64"
            ]
          },
          "metadata": {},
          "execution_count": 22
        }
      ]
    },
    {
      "cell_type": "markdown",
      "source": [
        "**Which are the low selling products?**"
      ],
      "metadata": {
        "id": "7vxJ5kWKN429"
      }
    },
    {
      "cell_type": "code",
      "source": [
        "df['Product Name'].value_counts().sort_values()[:10]"
      ],
      "metadata": {
        "colab": {
          "base_uri": "https://localhost:8080/"
        },
        "id": "oGkaui5nN38J",
        "outputId": "f3101e8c-e4f6-4dab-886b-0161943709ea"
      },
      "execution_count": null,
      "outputs": [
        {
          "output_type": "execute_result",
          "data": {
            "text/plain": [
              "Acco Glide Clips                                                 1\n",
              "Xerox 1969                                                       1\n",
              "Global Enterprise Series Seating Low-Back Swivel/Tilt Chairs     1\n",
              "I.R.I.S IRISCard Anywhere 5 Card Scanner                         1\n",
              "Cubify CubeX 3D Printer Triple Head Print                        1\n",
              "Hewlett-Packard Deskjet 5550 Printer                             1\n",
              "Logitech Illuminated Ultrathin Keyboard with Backlighting        1\n",
              "Hewlett-Packard Deskjet 3050a All-in-One Color Inkjet Printer    1\n",
              "Plantronics Single Ear Headset                                   1\n",
              "Eldon Jumbo ProFile Portable File Boxes Graphite/Black           1\n",
              "Name: Product Name, dtype: int64"
            ]
          },
          "metadata": {},
          "execution_count": 23
        }
      ]
    },
    {
      "cell_type": "markdown",
      "source": [
        "Visualization of sales data is done using Tableau software to gain better insights.\n"
      ],
      "metadata": {
        "id": "umyblqlhMt8V"
      }
    },
    {
      "cell_type": "markdown",
      "source": [
        "# **Time Series Analysis**"
      ],
      "metadata": {
        "id": "sKsBN11q3xde"
      }
    },
    {
      "cell_type": "code",
      "source": [
        "timedf=df.groupby(\"Order Date\").sum()[[\"Sales\"]]\n",
        "timedf.head(10)"
      ],
      "metadata": {
        "id": "H0bkEBnxj72_",
        "colab": {
          "base_uri": "https://localhost:8080/",
          "height": 394
        },
        "outputId": "95359169-5ed6-4b4b-b461-c31ef8bde430"
      },
      "execution_count": null,
      "outputs": [
        {
          "output_type": "execute_result",
          "data": {
            "text/plain": [
              "               Sales\n",
              "Order Date          \n",
              "2014-01-02   468.900\n",
              "2014-01-03  2203.151\n",
              "2014-01-04   119.888\n",
              "2014-01-06  5188.520\n",
              "2014-01-07   601.024\n",
              "2014-01-08   228.328\n",
              "2014-01-09   469.436\n",
              "2014-01-10     4.710\n",
              "2014-01-11  4732.080\n",
              "2014-01-12  5624.390"
            ],
            "text/html": [
              "\n",
              "  <div id=\"df-97e433e7-a299-4e5b-9f5b-dc3bde9fad80\">\n",
              "    <div class=\"colab-df-container\">\n",
              "      <div>\n",
              "<style scoped>\n",
              "    .dataframe tbody tr th:only-of-type {\n",
              "        vertical-align: middle;\n",
              "    }\n",
              "\n",
              "    .dataframe tbody tr th {\n",
              "        vertical-align: top;\n",
              "    }\n",
              "\n",
              "    .dataframe thead th {\n",
              "        text-align: right;\n",
              "    }\n",
              "</style>\n",
              "<table border=\"1\" class=\"dataframe\">\n",
              "  <thead>\n",
              "    <tr style=\"text-align: right;\">\n",
              "      <th></th>\n",
              "      <th>Sales</th>\n",
              "    </tr>\n",
              "    <tr>\n",
              "      <th>Order Date</th>\n",
              "      <th></th>\n",
              "    </tr>\n",
              "  </thead>\n",
              "  <tbody>\n",
              "    <tr>\n",
              "      <th>2014-01-02</th>\n",
              "      <td>468.900</td>\n",
              "    </tr>\n",
              "    <tr>\n",
              "      <th>2014-01-03</th>\n",
              "      <td>2203.151</td>\n",
              "    </tr>\n",
              "    <tr>\n",
              "      <th>2014-01-04</th>\n",
              "      <td>119.888</td>\n",
              "    </tr>\n",
              "    <tr>\n",
              "      <th>2014-01-06</th>\n",
              "      <td>5188.520</td>\n",
              "    </tr>\n",
              "    <tr>\n",
              "      <th>2014-01-07</th>\n",
              "      <td>601.024</td>\n",
              "    </tr>\n",
              "    <tr>\n",
              "      <th>2014-01-08</th>\n",
              "      <td>228.328</td>\n",
              "    </tr>\n",
              "    <tr>\n",
              "      <th>2014-01-09</th>\n",
              "      <td>469.436</td>\n",
              "    </tr>\n",
              "    <tr>\n",
              "      <th>2014-01-10</th>\n",
              "      <td>4.710</td>\n",
              "    </tr>\n",
              "    <tr>\n",
              "      <th>2014-01-11</th>\n",
              "      <td>4732.080</td>\n",
              "    </tr>\n",
              "    <tr>\n",
              "      <th>2014-01-12</th>\n",
              "      <td>5624.390</td>\n",
              "    </tr>\n",
              "  </tbody>\n",
              "</table>\n",
              "</div>\n",
              "      <button class=\"colab-df-convert\" onclick=\"convertToInteractive('df-97e433e7-a299-4e5b-9f5b-dc3bde9fad80')\"\n",
              "              title=\"Convert this dataframe to an interactive table.\"\n",
              "              style=\"display:none;\">\n",
              "        \n",
              "  <svg xmlns=\"http://www.w3.org/2000/svg\" height=\"24px\"viewBox=\"0 0 24 24\"\n",
              "       width=\"24px\">\n",
              "    <path d=\"M0 0h24v24H0V0z\" fill=\"none\"/>\n",
              "    <path d=\"M18.56 5.44l.94 2.06.94-2.06 2.06-.94-2.06-.94-.94-2.06-.94 2.06-2.06.94zm-11 1L8.5 8.5l.94-2.06 2.06-.94-2.06-.94L8.5 2.5l-.94 2.06-2.06.94zm10 10l.94 2.06.94-2.06 2.06-.94-2.06-.94-.94-2.06-.94 2.06-2.06.94z\"/><path d=\"M17.41 7.96l-1.37-1.37c-.4-.4-.92-.59-1.43-.59-.52 0-1.04.2-1.43.59L10.3 9.45l-7.72 7.72c-.78.78-.78 2.05 0 2.83L4 21.41c.39.39.9.59 1.41.59.51 0 1.02-.2 1.41-.59l7.78-7.78 2.81-2.81c.8-.78.8-2.07 0-2.86zM5.41 20L4 18.59l7.72-7.72 1.47 1.35L5.41 20z\"/>\n",
              "  </svg>\n",
              "      </button>\n",
              "      \n",
              "  <style>\n",
              "    .colab-df-container {\n",
              "      display:flex;\n",
              "      flex-wrap:wrap;\n",
              "      gap: 12px;\n",
              "    }\n",
              "\n",
              "    .colab-df-convert {\n",
              "      background-color: #E8F0FE;\n",
              "      border: none;\n",
              "      border-radius: 50%;\n",
              "      cursor: pointer;\n",
              "      display: none;\n",
              "      fill: #1967D2;\n",
              "      height: 32px;\n",
              "      padding: 0 0 0 0;\n",
              "      width: 32px;\n",
              "    }\n",
              "\n",
              "    .colab-df-convert:hover {\n",
              "      background-color: #E2EBFA;\n",
              "      box-shadow: 0px 1px 2px rgba(60, 64, 67, 0.3), 0px 1px 3px 1px rgba(60, 64, 67, 0.15);\n",
              "      fill: #174EA6;\n",
              "    }\n",
              "\n",
              "    [theme=dark] .colab-df-convert {\n",
              "      background-color: #3B4455;\n",
              "      fill: #D2E3FC;\n",
              "    }\n",
              "\n",
              "    [theme=dark] .colab-df-convert:hover {\n",
              "      background-color: #434B5C;\n",
              "      box-shadow: 0px 1px 3px 1px rgba(0, 0, 0, 0.15);\n",
              "      filter: drop-shadow(0px 1px 2px rgba(0, 0, 0, 0.3));\n",
              "      fill: #FFFFFF;\n",
              "    }\n",
              "  </style>\n",
              "\n",
              "      <script>\n",
              "        const buttonEl =\n",
              "          document.querySelector('#df-97e433e7-a299-4e5b-9f5b-dc3bde9fad80 button.colab-df-convert');\n",
              "        buttonEl.style.display =\n",
              "          google.colab.kernel.accessAllowed ? 'block' : 'none';\n",
              "\n",
              "        async function convertToInteractive(key) {\n",
              "          const element = document.querySelector('#df-97e433e7-a299-4e5b-9f5b-dc3bde9fad80');\n",
              "          const dataTable =\n",
              "            await google.colab.kernel.invokeFunction('convertToInteractive',\n",
              "                                                     [key], {});\n",
              "          if (!dataTable) return;\n",
              "\n",
              "          const docLinkHtml = 'Like what you see? Visit the ' +\n",
              "            '<a target=\"_blank\" href=https://colab.research.google.com/notebooks/data_table.ipynb>data table notebook</a>'\n",
              "            + ' to learn more about interactive tables.';\n",
              "          element.innerHTML = '';\n",
              "          dataTable['output_type'] = 'display_data';\n",
              "          await google.colab.output.renderOutput(dataTable, element);\n",
              "          const docLink = document.createElement('div');\n",
              "          docLink.innerHTML = docLinkHtml;\n",
              "          element.appendChild(docLink);\n",
              "        }\n",
              "      </script>\n",
              "    </div>\n",
              "  </div>\n",
              "  "
            ]
          },
          "metadata": {},
          "execution_count": 24
        }
      ]
    },
    {
      "cell_type": "code",
      "source": [
        "timedf.tail(10)"
      ],
      "metadata": {
        "colab": {
          "base_uri": "https://localhost:8080/",
          "height": 394
        },
        "id": "jYTor2Zr4SYI",
        "outputId": "a0cdeb9c-cac3-4e79-c8d3-2be11a5f4ab5"
      },
      "execution_count": null,
      "outputs": [
        {
          "output_type": "execute_result",
          "data": {
            "text/plain": [
              "                Sales\n",
              "Order Date           \n",
              "2017-12-21  2140.9400\n",
              "2017-12-22  7442.0210\n",
              "2017-12-23  1926.7760\n",
              "2017-12-24  6233.0540\n",
              "2017-12-25  2698.9270\n",
              "2017-12-26   814.5940\n",
              "2017-12-27   177.6360\n",
              "2017-12-28  1657.3508\n",
              "2017-12-29  2915.5340\n",
              "2017-12-30   713.7900"
            ],
            "text/html": [
              "\n",
              "  <div id=\"df-1c3ffdb5-623a-493f-b4e3-8e22f04b3f02\">\n",
              "    <div class=\"colab-df-container\">\n",
              "      <div>\n",
              "<style scoped>\n",
              "    .dataframe tbody tr th:only-of-type {\n",
              "        vertical-align: middle;\n",
              "    }\n",
              "\n",
              "    .dataframe tbody tr th {\n",
              "        vertical-align: top;\n",
              "    }\n",
              "\n",
              "    .dataframe thead th {\n",
              "        text-align: right;\n",
              "    }\n",
              "</style>\n",
              "<table border=\"1\" class=\"dataframe\">\n",
              "  <thead>\n",
              "    <tr style=\"text-align: right;\">\n",
              "      <th></th>\n",
              "      <th>Sales</th>\n",
              "    </tr>\n",
              "    <tr>\n",
              "      <th>Order Date</th>\n",
              "      <th></th>\n",
              "    </tr>\n",
              "  </thead>\n",
              "  <tbody>\n",
              "    <tr>\n",
              "      <th>2017-12-21</th>\n",
              "      <td>2140.9400</td>\n",
              "    </tr>\n",
              "    <tr>\n",
              "      <th>2017-12-22</th>\n",
              "      <td>7442.0210</td>\n",
              "    </tr>\n",
              "    <tr>\n",
              "      <th>2017-12-23</th>\n",
              "      <td>1926.7760</td>\n",
              "    </tr>\n",
              "    <tr>\n",
              "      <th>2017-12-24</th>\n",
              "      <td>6233.0540</td>\n",
              "    </tr>\n",
              "    <tr>\n",
              "      <th>2017-12-25</th>\n",
              "      <td>2698.9270</td>\n",
              "    </tr>\n",
              "    <tr>\n",
              "      <th>2017-12-26</th>\n",
              "      <td>814.5940</td>\n",
              "    </tr>\n",
              "    <tr>\n",
              "      <th>2017-12-27</th>\n",
              "      <td>177.6360</td>\n",
              "    </tr>\n",
              "    <tr>\n",
              "      <th>2017-12-28</th>\n",
              "      <td>1657.3508</td>\n",
              "    </tr>\n",
              "    <tr>\n",
              "      <th>2017-12-29</th>\n",
              "      <td>2915.5340</td>\n",
              "    </tr>\n",
              "    <tr>\n",
              "      <th>2017-12-30</th>\n",
              "      <td>713.7900</td>\n",
              "    </tr>\n",
              "  </tbody>\n",
              "</table>\n",
              "</div>\n",
              "      <button class=\"colab-df-convert\" onclick=\"convertToInteractive('df-1c3ffdb5-623a-493f-b4e3-8e22f04b3f02')\"\n",
              "              title=\"Convert this dataframe to an interactive table.\"\n",
              "              style=\"display:none;\">\n",
              "        \n",
              "  <svg xmlns=\"http://www.w3.org/2000/svg\" height=\"24px\"viewBox=\"0 0 24 24\"\n",
              "       width=\"24px\">\n",
              "    <path d=\"M0 0h24v24H0V0z\" fill=\"none\"/>\n",
              "    <path d=\"M18.56 5.44l.94 2.06.94-2.06 2.06-.94-2.06-.94-.94-2.06-.94 2.06-2.06.94zm-11 1L8.5 8.5l.94-2.06 2.06-.94-2.06-.94L8.5 2.5l-.94 2.06-2.06.94zm10 10l.94 2.06.94-2.06 2.06-.94-2.06-.94-.94-2.06-.94 2.06-2.06.94z\"/><path d=\"M17.41 7.96l-1.37-1.37c-.4-.4-.92-.59-1.43-.59-.52 0-1.04.2-1.43.59L10.3 9.45l-7.72 7.72c-.78.78-.78 2.05 0 2.83L4 21.41c.39.39.9.59 1.41.59.51 0 1.02-.2 1.41-.59l7.78-7.78 2.81-2.81c.8-.78.8-2.07 0-2.86zM5.41 20L4 18.59l7.72-7.72 1.47 1.35L5.41 20z\"/>\n",
              "  </svg>\n",
              "      </button>\n",
              "      \n",
              "  <style>\n",
              "    .colab-df-container {\n",
              "      display:flex;\n",
              "      flex-wrap:wrap;\n",
              "      gap: 12px;\n",
              "    }\n",
              "\n",
              "    .colab-df-convert {\n",
              "      background-color: #E8F0FE;\n",
              "      border: none;\n",
              "      border-radius: 50%;\n",
              "      cursor: pointer;\n",
              "      display: none;\n",
              "      fill: #1967D2;\n",
              "      height: 32px;\n",
              "      padding: 0 0 0 0;\n",
              "      width: 32px;\n",
              "    }\n",
              "\n",
              "    .colab-df-convert:hover {\n",
              "      background-color: #E2EBFA;\n",
              "      box-shadow: 0px 1px 2px rgba(60, 64, 67, 0.3), 0px 1px 3px 1px rgba(60, 64, 67, 0.15);\n",
              "      fill: #174EA6;\n",
              "    }\n",
              "\n",
              "    [theme=dark] .colab-df-convert {\n",
              "      background-color: #3B4455;\n",
              "      fill: #D2E3FC;\n",
              "    }\n",
              "\n",
              "    [theme=dark] .colab-df-convert:hover {\n",
              "      background-color: #434B5C;\n",
              "      box-shadow: 0px 1px 3px 1px rgba(0, 0, 0, 0.15);\n",
              "      filter: drop-shadow(0px 1px 2px rgba(0, 0, 0, 0.3));\n",
              "      fill: #FFFFFF;\n",
              "    }\n",
              "  </style>\n",
              "\n",
              "      <script>\n",
              "        const buttonEl =\n",
              "          document.querySelector('#df-1c3ffdb5-623a-493f-b4e3-8e22f04b3f02 button.colab-df-convert');\n",
              "        buttonEl.style.display =\n",
              "          google.colab.kernel.accessAllowed ? 'block' : 'none';\n",
              "\n",
              "        async function convertToInteractive(key) {\n",
              "          const element = document.querySelector('#df-1c3ffdb5-623a-493f-b4e3-8e22f04b3f02');\n",
              "          const dataTable =\n",
              "            await google.colab.kernel.invokeFunction('convertToInteractive',\n",
              "                                                     [key], {});\n",
              "          if (!dataTable) return;\n",
              "\n",
              "          const docLinkHtml = 'Like what you see? Visit the ' +\n",
              "            '<a target=\"_blank\" href=https://colab.research.google.com/notebooks/data_table.ipynb>data table notebook</a>'\n",
              "            + ' to learn more about interactive tables.';\n",
              "          element.innerHTML = '';\n",
              "          dataTable['output_type'] = 'display_data';\n",
              "          await google.colab.output.renderOutput(dataTable, element);\n",
              "          const docLink = document.createElement('div');\n",
              "          docLink.innerHTML = docLinkHtml;\n",
              "          element.appendChild(docLink);\n",
              "        }\n",
              "      </script>\n",
              "    </div>\n",
              "  </div>\n",
              "  "
            ]
          },
          "metadata": {},
          "execution_count": 25
        }
      ]
    },
    {
      "cell_type": "markdown",
      "source": [
        "**Check if data is stationary**"
      ],
      "metadata": {
        "id": "b1rOskQo6VHs"
      }
    },
    {
      "cell_type": "markdown",
      "source": [
        "**1) Plot tests**"
      ],
      "metadata": {
        "id": "Y5hnl4qK6azv"
      }
    },
    {
      "cell_type": "code",
      "source": [
        "timedf[\"day\"]=timedf.index.day\n",
        "timedf[\"month\"]=timedf.index.month\n",
        "timedf[\"year\"]=timedf.index.year\n",
        "\n",
        "timedf.head()"
      ],
      "metadata": {
        "colab": {
          "base_uri": "https://localhost:8080/",
          "height": 237
        },
        "id": "KgFzWKzP4k1z",
        "outputId": "d9fdd4fb-b362-4b20-8ea2-ee5efb050e32"
      },
      "execution_count": null,
      "outputs": [
        {
          "output_type": "execute_result",
          "data": {
            "text/plain": [
              "               Sales  day  month  year\n",
              "Order Date                            \n",
              "2014-01-02   468.900    2      1  2014\n",
              "2014-01-03  2203.151    3      1  2014\n",
              "2014-01-04   119.888    4      1  2014\n",
              "2014-01-06  5188.520    6      1  2014\n",
              "2014-01-07   601.024    7      1  2014"
            ],
            "text/html": [
              "\n",
              "  <div id=\"df-1639a61e-addc-47a0-b86a-42be2c3f1cf6\">\n",
              "    <div class=\"colab-df-container\">\n",
              "      <div>\n",
              "<style scoped>\n",
              "    .dataframe tbody tr th:only-of-type {\n",
              "        vertical-align: middle;\n",
              "    }\n",
              "\n",
              "    .dataframe tbody tr th {\n",
              "        vertical-align: top;\n",
              "    }\n",
              "\n",
              "    .dataframe thead th {\n",
              "        text-align: right;\n",
              "    }\n",
              "</style>\n",
              "<table border=\"1\" class=\"dataframe\">\n",
              "  <thead>\n",
              "    <tr style=\"text-align: right;\">\n",
              "      <th></th>\n",
              "      <th>Sales</th>\n",
              "      <th>day</th>\n",
              "      <th>month</th>\n",
              "      <th>year</th>\n",
              "    </tr>\n",
              "    <tr>\n",
              "      <th>Order Date</th>\n",
              "      <th></th>\n",
              "      <th></th>\n",
              "      <th></th>\n",
              "      <th></th>\n",
              "    </tr>\n",
              "  </thead>\n",
              "  <tbody>\n",
              "    <tr>\n",
              "      <th>2014-01-02</th>\n",
              "      <td>468.900</td>\n",
              "      <td>2</td>\n",
              "      <td>1</td>\n",
              "      <td>2014</td>\n",
              "    </tr>\n",
              "    <tr>\n",
              "      <th>2014-01-03</th>\n",
              "      <td>2203.151</td>\n",
              "      <td>3</td>\n",
              "      <td>1</td>\n",
              "      <td>2014</td>\n",
              "    </tr>\n",
              "    <tr>\n",
              "      <th>2014-01-04</th>\n",
              "      <td>119.888</td>\n",
              "      <td>4</td>\n",
              "      <td>1</td>\n",
              "      <td>2014</td>\n",
              "    </tr>\n",
              "    <tr>\n",
              "      <th>2014-01-06</th>\n",
              "      <td>5188.520</td>\n",
              "      <td>6</td>\n",
              "      <td>1</td>\n",
              "      <td>2014</td>\n",
              "    </tr>\n",
              "    <tr>\n",
              "      <th>2014-01-07</th>\n",
              "      <td>601.024</td>\n",
              "      <td>7</td>\n",
              "      <td>1</td>\n",
              "      <td>2014</td>\n",
              "    </tr>\n",
              "  </tbody>\n",
              "</table>\n",
              "</div>\n",
              "      <button class=\"colab-df-convert\" onclick=\"convertToInteractive('df-1639a61e-addc-47a0-b86a-42be2c3f1cf6')\"\n",
              "              title=\"Convert this dataframe to an interactive table.\"\n",
              "              style=\"display:none;\">\n",
              "        \n",
              "  <svg xmlns=\"http://www.w3.org/2000/svg\" height=\"24px\"viewBox=\"0 0 24 24\"\n",
              "       width=\"24px\">\n",
              "    <path d=\"M0 0h24v24H0V0z\" fill=\"none\"/>\n",
              "    <path d=\"M18.56 5.44l.94 2.06.94-2.06 2.06-.94-2.06-.94-.94-2.06-.94 2.06-2.06.94zm-11 1L8.5 8.5l.94-2.06 2.06-.94-2.06-.94L8.5 2.5l-.94 2.06-2.06.94zm10 10l.94 2.06.94-2.06 2.06-.94-2.06-.94-.94-2.06-.94 2.06-2.06.94z\"/><path d=\"M17.41 7.96l-1.37-1.37c-.4-.4-.92-.59-1.43-.59-.52 0-1.04.2-1.43.59L10.3 9.45l-7.72 7.72c-.78.78-.78 2.05 0 2.83L4 21.41c.39.39.9.59 1.41.59.51 0 1.02-.2 1.41-.59l7.78-7.78 2.81-2.81c.8-.78.8-2.07 0-2.86zM5.41 20L4 18.59l7.72-7.72 1.47 1.35L5.41 20z\"/>\n",
              "  </svg>\n",
              "      </button>\n",
              "      \n",
              "  <style>\n",
              "    .colab-df-container {\n",
              "      display:flex;\n",
              "      flex-wrap:wrap;\n",
              "      gap: 12px;\n",
              "    }\n",
              "\n",
              "    .colab-df-convert {\n",
              "      background-color: #E8F0FE;\n",
              "      border: none;\n",
              "      border-radius: 50%;\n",
              "      cursor: pointer;\n",
              "      display: none;\n",
              "      fill: #1967D2;\n",
              "      height: 32px;\n",
              "      padding: 0 0 0 0;\n",
              "      width: 32px;\n",
              "    }\n",
              "\n",
              "    .colab-df-convert:hover {\n",
              "      background-color: #E2EBFA;\n",
              "      box-shadow: 0px 1px 2px rgba(60, 64, 67, 0.3), 0px 1px 3px 1px rgba(60, 64, 67, 0.15);\n",
              "      fill: #174EA6;\n",
              "    }\n",
              "\n",
              "    [theme=dark] .colab-df-convert {\n",
              "      background-color: #3B4455;\n",
              "      fill: #D2E3FC;\n",
              "    }\n",
              "\n",
              "    [theme=dark] .colab-df-convert:hover {\n",
              "      background-color: #434B5C;\n",
              "      box-shadow: 0px 1px 3px 1px rgba(0, 0, 0, 0.15);\n",
              "      filter: drop-shadow(0px 1px 2px rgba(0, 0, 0, 0.3));\n",
              "      fill: #FFFFFF;\n",
              "    }\n",
              "  </style>\n",
              "\n",
              "      <script>\n",
              "        const buttonEl =\n",
              "          document.querySelector('#df-1639a61e-addc-47a0-b86a-42be2c3f1cf6 button.colab-df-convert');\n",
              "        buttonEl.style.display =\n",
              "          google.colab.kernel.accessAllowed ? 'block' : 'none';\n",
              "\n",
              "        async function convertToInteractive(key) {\n",
              "          const element = document.querySelector('#df-1639a61e-addc-47a0-b86a-42be2c3f1cf6');\n",
              "          const dataTable =\n",
              "            await google.colab.kernel.invokeFunction('convertToInteractive',\n",
              "                                                     [key], {});\n",
              "          if (!dataTable) return;\n",
              "\n",
              "          const docLinkHtml = 'Like what you see? Visit the ' +\n",
              "            '<a target=\"_blank\" href=https://colab.research.google.com/notebooks/data_table.ipynb>data table notebook</a>'\n",
              "            + ' to learn more about interactive tables.';\n",
              "          element.innerHTML = '';\n",
              "          dataTable['output_type'] = 'display_data';\n",
              "          await google.colab.output.renderOutput(dataTable, element);\n",
              "          const docLink = document.createElement('div');\n",
              "          docLink.innerHTML = docLinkHtml;\n",
              "          element.appendChild(docLink);\n",
              "        }\n",
              "      </script>\n",
              "    </div>\n",
              "  </div>\n",
              "  "
            ]
          },
          "metadata": {},
          "execution_count": 26
        }
      ]
    },
    {
      "cell_type": "code",
      "source": [
        "timedf[\"Year_Month\"] = timedf[\"year\"].astype(str) + \"-\" + timedf[\"month\"].astype(str)\n",
        "timedf[\"Year_Month\"] = pd.to_datetime(timedf[\"Year_Month\"]).dt.date\n"
      ],
      "metadata": {
        "id": "JGItYCwZCm8a"
      },
      "execution_count": null,
      "outputs": []
    },
    {
      "cell_type": "code",
      "source": [
        "sales_trend = timedf[[\"Year_Month\",\"Sales\"]].groupby(\"Year_Month\").sum()\n",
        "sales_trend = sales_trend.sort_values(by=\"Year_Month\")\n",
        "sales_trend.head()"
      ],
      "metadata": {
        "colab": {
          "base_uri": "https://localhost:8080/",
          "height": 237
        },
        "id": "uYP7KscgDOe_",
        "outputId": "8db545be-259d-41cf-b991-de3e91138682"
      },
      "execution_count": null,
      "outputs": [
        {
          "output_type": "execute_result",
          "data": {
            "text/plain": [
              "                Sales\n",
              "Year_Month           \n",
              "2014-01-01  28953.706\n",
              "2014-02-01  12743.108\n",
              "2014-03-01  54801.906\n",
              "2014-04-01  24428.644\n",
              "2014-05-01  29639.834"
            ],
            "text/html": [
              "\n",
              "  <div id=\"df-47f5a57f-6d42-4c01-a9f0-e51a81d5c5ec\">\n",
              "    <div class=\"colab-df-container\">\n",
              "      <div>\n",
              "<style scoped>\n",
              "    .dataframe tbody tr th:only-of-type {\n",
              "        vertical-align: middle;\n",
              "    }\n",
              "\n",
              "    .dataframe tbody tr th {\n",
              "        vertical-align: top;\n",
              "    }\n",
              "\n",
              "    .dataframe thead th {\n",
              "        text-align: right;\n",
              "    }\n",
              "</style>\n",
              "<table border=\"1\" class=\"dataframe\">\n",
              "  <thead>\n",
              "    <tr style=\"text-align: right;\">\n",
              "      <th></th>\n",
              "      <th>Sales</th>\n",
              "    </tr>\n",
              "    <tr>\n",
              "      <th>Year_Month</th>\n",
              "      <th></th>\n",
              "    </tr>\n",
              "  </thead>\n",
              "  <tbody>\n",
              "    <tr>\n",
              "      <th>2014-01-01</th>\n",
              "      <td>28953.706</td>\n",
              "    </tr>\n",
              "    <tr>\n",
              "      <th>2014-02-01</th>\n",
              "      <td>12743.108</td>\n",
              "    </tr>\n",
              "    <tr>\n",
              "      <th>2014-03-01</th>\n",
              "      <td>54801.906</td>\n",
              "    </tr>\n",
              "    <tr>\n",
              "      <th>2014-04-01</th>\n",
              "      <td>24428.644</td>\n",
              "    </tr>\n",
              "    <tr>\n",
              "      <th>2014-05-01</th>\n",
              "      <td>29639.834</td>\n",
              "    </tr>\n",
              "  </tbody>\n",
              "</table>\n",
              "</div>\n",
              "      <button class=\"colab-df-convert\" onclick=\"convertToInteractive('df-47f5a57f-6d42-4c01-a9f0-e51a81d5c5ec')\"\n",
              "              title=\"Convert this dataframe to an interactive table.\"\n",
              "              style=\"display:none;\">\n",
              "        \n",
              "  <svg xmlns=\"http://www.w3.org/2000/svg\" height=\"24px\"viewBox=\"0 0 24 24\"\n",
              "       width=\"24px\">\n",
              "    <path d=\"M0 0h24v24H0V0z\" fill=\"none\"/>\n",
              "    <path d=\"M18.56 5.44l.94 2.06.94-2.06 2.06-.94-2.06-.94-.94-2.06-.94 2.06-2.06.94zm-11 1L8.5 8.5l.94-2.06 2.06-.94-2.06-.94L8.5 2.5l-.94 2.06-2.06.94zm10 10l.94 2.06.94-2.06 2.06-.94-2.06-.94-.94-2.06-.94 2.06-2.06.94z\"/><path d=\"M17.41 7.96l-1.37-1.37c-.4-.4-.92-.59-1.43-.59-.52 0-1.04.2-1.43.59L10.3 9.45l-7.72 7.72c-.78.78-.78 2.05 0 2.83L4 21.41c.39.39.9.59 1.41.59.51 0 1.02-.2 1.41-.59l7.78-7.78 2.81-2.81c.8-.78.8-2.07 0-2.86zM5.41 20L4 18.59l7.72-7.72 1.47 1.35L5.41 20z\"/>\n",
              "  </svg>\n",
              "      </button>\n",
              "      \n",
              "  <style>\n",
              "    .colab-df-container {\n",
              "      display:flex;\n",
              "      flex-wrap:wrap;\n",
              "      gap: 12px;\n",
              "    }\n",
              "\n",
              "    .colab-df-convert {\n",
              "      background-color: #E8F0FE;\n",
              "      border: none;\n",
              "      border-radius: 50%;\n",
              "      cursor: pointer;\n",
              "      display: none;\n",
              "      fill: #1967D2;\n",
              "      height: 32px;\n",
              "      padding: 0 0 0 0;\n",
              "      width: 32px;\n",
              "    }\n",
              "\n",
              "    .colab-df-convert:hover {\n",
              "      background-color: #E2EBFA;\n",
              "      box-shadow: 0px 1px 2px rgba(60, 64, 67, 0.3), 0px 1px 3px 1px rgba(60, 64, 67, 0.15);\n",
              "      fill: #174EA6;\n",
              "    }\n",
              "\n",
              "    [theme=dark] .colab-df-convert {\n",
              "      background-color: #3B4455;\n",
              "      fill: #D2E3FC;\n",
              "    }\n",
              "\n",
              "    [theme=dark] .colab-df-convert:hover {\n",
              "      background-color: #434B5C;\n",
              "      box-shadow: 0px 1px 3px 1px rgba(0, 0, 0, 0.15);\n",
              "      filter: drop-shadow(0px 1px 2px rgba(0, 0, 0, 0.3));\n",
              "      fill: #FFFFFF;\n",
              "    }\n",
              "  </style>\n",
              "\n",
              "      <script>\n",
              "        const buttonEl =\n",
              "          document.querySelector('#df-47f5a57f-6d42-4c01-a9f0-e51a81d5c5ec button.colab-df-convert');\n",
              "        buttonEl.style.display =\n",
              "          google.colab.kernel.accessAllowed ? 'block' : 'none';\n",
              "\n",
              "        async function convertToInteractive(key) {\n",
              "          const element = document.querySelector('#df-47f5a57f-6d42-4c01-a9f0-e51a81d5c5ec');\n",
              "          const dataTable =\n",
              "            await google.colab.kernel.invokeFunction('convertToInteractive',\n",
              "                                                     [key], {});\n",
              "          if (!dataTable) return;\n",
              "\n",
              "          const docLinkHtml = 'Like what you see? Visit the ' +\n",
              "            '<a target=\"_blank\" href=https://colab.research.google.com/notebooks/data_table.ipynb>data table notebook</a>'\n",
              "            + ' to learn more about interactive tables.';\n",
              "          element.innerHTML = '';\n",
              "          dataTable['output_type'] = 'display_data';\n",
              "          await google.colab.output.renderOutput(dataTable, element);\n",
              "          const docLink = document.createElement('div');\n",
              "          docLink.innerHTML = docLinkHtml;\n",
              "          element.appendChild(docLink);\n",
              "        }\n",
              "      </script>\n",
              "    </div>\n",
              "  </div>\n",
              "  "
            ]
          },
          "metadata": {},
          "execution_count": 50
        }
      ]
    },
    {
      "cell_type": "code",
      "source": [
        "plt.figure(figsize=[15, 4])\n",
        "plt.plot(sales_trend, label='Sales')\n",
        "plt.title('Sales(2014-2017)', fontsize=16)\n",
        "plt.xlabel('Date', fontsize=14)\n",
        "plt.ylabel('Sales', fontsize=14)\n",
        "plt.legend()\n",
        "plt.savefig('databefore')\n",
        "plt.show()"
      ],
      "metadata": {
        "colab": {
          "base_uri": "https://localhost:8080/",
          "height": 285
        },
        "id": "W7Lb4nfnEKtg",
        "outputId": "c0c332a2-933f-48eb-ca28-329b800bb27e"
      },
      "execution_count": null,
      "outputs": [
        {
          "output_type": "display_data",
          "data": {
            "text/plain": [
              "<Figure size 1080x288 with 1 Axes>"
            ],
            "image/png": "[encoded data removed]"
          },
          "metadata": {
            "needs_background": "light"
          }
        }
      ]
    },
    {
      "cell_type": "code",
      "source": [
        "sales_trend['rolmean']=sales_trend[\"Sales\"].rolling(2).mean()\n",
        "sales_trend['rol_std']=sales_trend[\"Sales\"].rolling(2).std()\n",
        "sales_trend.plot()\n",
        "plt.legend()\n",
        "plt.title('Sales Trend by Year-Month with Rolling Average and Std')\n"
      ],
      "metadata": {
        "colab": {
          "base_uri": "https://localhost:8080/",
          "height": 313
        },
        "id": "aI-9ezUb5-3n",
        "outputId": "643460d7-5b2e-42ce-d66c-dc9b2401d6d0"
      },
      "execution_count": null,
      "outputs": [
        {
          "output_type": "execute_result",
          "data": {
            "text/plain": [
              "Text(0.5, 1.0, 'Sales Trend by Year-Month with Rolling Average and Std')"
            ]
          },
          "metadata": {},
          "execution_count": 30
        },
        {
          "output_type": "display_data",
          "data": {
            "text/plain": [
              "<Figure size 432x288 with 1 Axes>"
            ],
            "image/png": "[encoded data removed]"
          },
          "metadata": {
            "needs_background": "light"
          }
        }
      ]
    },
    {
      "cell_type": "markdown",
      "source": [
        "**2) Augmented Dickey Fuller Test**\n",
        "\n",
        "Null Hypothesis: Data is non-stationary\n",
        "\n",
        "Alternate : Data is stationary"
      ],
      "metadata": {
        "id": "YBOpaNSi6emM"
      }
    },
    {
      "cell_type": "code",
      "source": [
        "from statsmodels.tsa.stattools import adfuller\n",
        "X = sales_trend['Sales']\n",
        "result = adfuller(X)\n",
        "print('ADF Statistic: %f' % result[0])\n",
        "print('p-value: %f' % result[1])\n",
        "print('Critical Values:')\n",
        "for key, value in result[4].items():\n",
        "\tprint('\\t%s: %.3f' % (key, value))"
      ],
      "metadata": {
        "colab": {
          "base_uri": "https://localhost:8080/"
        },
        "id": "dq1VEReW6Mkd",
        "outputId": "f975a537-1ed3-4c1f-c24a-ca185e304b04"
      },
      "execution_count": null,
      "outputs": [
        {
          "output_type": "stream",
          "name": "stdout",
          "text": [
            "ADF Statistic: -1.177274\n",
            "p-value: 0.683295\n",
            "Critical Values:\n",
            "\t1%: -3.606\n",
            "\t5%: -2.937\n",
            "\t10%: -2.607\n"
          ]
        }
      ]
    },
    {
      "cell_type": "markdown",
      "source": [
        "Inference: \n",
        "The p-value is significant at 95% confidence level. Hence, null hypothesis is accepted. **The data is non - stationary.**"
      ],
      "metadata": {
        "id": "SIcSozew7HOC"
      }
    },
    {
      "cell_type": "markdown",
      "source": [
        "**Make the data stationary**"
      ],
      "metadata": {
        "id": "L-UnHkf4JOEt"
      }
    },
    {
      "cell_type": "code",
      "source": [
        "stdf=sales_trend['Sales']\n",
        "stdf.columns=['Sales']\n",
        "stdf.head()"
      ],
      "metadata": {
        "colab": {
          "base_uri": "https://localhost:8080/"
        },
        "id": "403kisuNJTaC",
        "outputId": "e21d87be-62bd-4b43-f4c3-ae4f0101c029"
      },
      "execution_count": null,
      "outputs": [
        {
          "output_type": "execute_result",
          "data": {
            "text/plain": [
              "Year_Month\n",
              "2014-01-01    28953.706\n",
              "2014-02-01    12743.108\n",
              "2014-03-01    54801.906\n",
              "2014-04-01    24428.644\n",
              "2014-05-01    29639.834\n",
              "Name: Sales, dtype: float64"
            ]
          },
          "metadata": {},
          "execution_count": 32
        }
      ]
    },
    {
      "cell_type": "code",
      "source": [
        "sales_data_log = np.log(stdf)\n",
        "sales_data_log.plot()"
      ],
      "metadata": {
        "colab": {
          "base_uri": "https://localhost:8080/",
          "height": 297
        },
        "id": "K4QjYHulZlmO",
        "outputId": "d2995fc1-804d-40d7-c595-a8a7728de688"
      },
      "execution_count": null,
      "outputs": [
        {
          "output_type": "execute_result",
          "data": {
            "text/plain": [
              "<matplotlib.axes._subplots.AxesSubplot at 0x7efd02914090>"
            ]
          },
          "metadata": {},
          "execution_count": 33
        },
        {
          "output_type": "display_data",
          "data": {
            "text/plain": [
              "<Figure size 432x288 with 1 Axes>"
            ],
            "image/png": "[encoded data removed]"
          },
          "metadata": {
            "needs_background": "light"
          }
        }
      ]
    },
    {
      "cell_type": "code",
      "source": [
        "result = adfuller(sales_data_log)\n",
        "print('ADF Statistic: %f' % result[0])\n",
        "print('p-value: %f' % result[1])\n",
        "print('Critical Values:')\n",
        "for key, value in result[4].items():\n",
        "\tprint('\\t%s: %.3f' % (key, value))"
      ],
      "metadata": {
        "colab": {
          "base_uri": "https://localhost:8080/"
        },
        "id": "lMYIF5hhZ_1b",
        "outputId": "5c9fff09-f9e6-46ab-a21a-856ea8e7ef98"
      },
      "execution_count": null,
      "outputs": [
        {
          "output_type": "stream",
          "name": "stdout",
          "text": [
            "ADF Statistic: -1.484145\n",
            "p-value: 0.541339\n",
            "Critical Values:\n",
            "\t1%: -3.606\n",
            "\t5%: -2.937\n",
            "\t10%: -2.607\n"
          ]
        }
      ]
    },
    {
      "cell_type": "markdown",
      "source": [
        "Data is still non-stationary"
      ],
      "metadata": {
        "id": "y1BBaSWiaCwk"
      }
    },
    {
      "cell_type": "code",
      "source": [
        "# create a new dataframe which is shifted by 1 month\n",
        "sales_shift = sales_data_log - sales_data_log.shift(1)\n",
        "sales_shift.plot()\n",
        "plt.savefig('dataafter')"
      ],
      "metadata": {
        "colab": {
          "base_uri": "https://localhost:8080/",
          "height": 280
        },
        "id": "A4wOk-SHaGgO",
        "outputId": "47f2a594-9e84-4ec0-8319-b77a4bb9037f"
      },
      "execution_count": null,
      "outputs": [
        {
          "output_type": "display_data",
          "data": {
            "text/plain": [
              "<Figure size 432x288 with 1 Axes>"
            ],
            "image/png": "[encoded data removed]"
          },
          "metadata": {
            "needs_background": "light"
          }
        }
      ]
    },
    {
      "cell_type": "code",
      "source": [
        "result = adfuller(sales_shift.dropna())\n",
        "print('ADF Statistic: %f' % result[0])\n",
        "print('p-value: %f' % result[1])\n",
        "print('Critical Values:')\n",
        "for key, value in result[4].items():\n",
        "\tprint('\\t%s: %.3f' % (key, value))"
      ],
      "metadata": {
        "colab": {
          "base_uri": "https://localhost:8080/"
        },
        "id": "Z7X5ppCraM7m",
        "outputId": "ff9662a4-6943-48ea-e7e1-1ca23d2132ac"
      },
      "execution_count": null,
      "outputs": [
        {
          "output_type": "stream",
          "name": "stdout",
          "text": [
            "ADF Statistic: -5.042459\n",
            "p-value: 0.000018\n",
            "Critical Values:\n",
            "\t1%: -3.627\n",
            "\t5%: -2.946\n",
            "\t10%: -2.612\n"
          ]
        }
      ]
    },
    {
      "cell_type": "markdown",
      "source": [
        "Now, the null hypothesis can be rejected.\n",
        "Hence data is stationary.\n",
        "Now, we can move on to build the time series model."
      ],
      "metadata": {
        "id": "c351XA5maZzk"
      }
    },
    {
      "cell_type": "markdown",
      "source": [
        "**Building the time-series model**"
      ],
      "metadata": {
        "id": "D_-wexR28lJi"
      }
    },
    {
      "cell_type": "markdown",
      "source": [
        "We decide which model suits the data based on the Auto-Correlation Function (ACF) and Partial AutoCorrelation Function(PACF)"
      ],
      "metadata": {
        "id": "g_M34N2X9DNM"
      }
    },
    {
      "cell_type": "code",
      "source": [
        "# check acf & pacf\n",
        "from statsmodels.graphics.tsaplots import plot_acf,plot_pacf\n",
        "import statsmodels.api as sm\n",
        "fig = plt.figure(figsize=(12,8))\n",
        "ax1 = fig.add_subplot(211)\n",
        "fig = sm.graphics.tsa.plot_acf(sales_shift.dropna(),ax=ax1)\n",
        "ax2 = fig.add_subplot(212)\n",
        "fig = sm.graphics.tsa.plot_pacf(sales_shift.dropna(),ax=ax2)\n",
        "plt.savefig('ACF_PACF')"
      ],
      "metadata": {
        "colab": {
          "base_uri": "https://localhost:8080/",
          "height": 554
        },
        "id": "c3uAmZQgjCiw",
        "outputId": "80dae224-3029-47ee-f040-c40e0b10e025"
      },
      "execution_count": null,
      "outputs": [
        {
          "output_type": "stream",
          "name": "stderr",
          "text": [
            "/usr/local/lib/python3.7/dist-packages/statsmodels/graphics/tsaplots.py:353: FutureWarning: The default method 'yw' can produce PACF values outside of the [-1,1] interval. After 0.13, the default will change tounadjusted Yule-Walker ('ywm'). You can use this method now by setting method='ywm'.\n",
            "  FutureWarning,\n"
          ]
        },
        {
          "output_type": "display_data",
          "data": {
            "text/plain": [
              "<Figure size 864x576 with 2 Axes>"
            ],
            "image/png": "[encoded data removed]"
          },
          "metadata": {
            "needs_background": "light"
          }
        }
      ]
    },
    {
      "cell_type": "code",
      "source": [
        "pip install statsmodels --upgrade"
      ],
      "metadata": {
        "colab": {
          "base_uri": "https://localhost:8080/"
        },
        "id": "NKrTV4l0AxIN",
        "outputId": "98d03a12-fb3a-4bb5-8950-1ea3fbfe98ee"
      },
      "execution_count": null,
      "outputs": [
        {
          "output_type": "stream",
          "name": "stdout",
          "text": [
            "Looking in indexes: https://pypi.org/simple, https://us-python.pkg.dev/colab-wheels/public/simple/\n",
            "Requirement already satisfied: statsmodels in /usr/local/lib/python3.7/dist-packages (0.13.2)\n",
            "Requirement already satisfied: numpy>=1.17 in /usr/local/lib/python3.7/dist-packages (from statsmodels) (1.21.6)\n",
            "Requirement already satisfied: pandas>=0.25 in /usr/local/lib/python3.7/dist-packages (from statsmodels) (1.3.5)\n",
            "Requirement already satisfied: patsy>=0.5.2 in /usr/local/lib/python3.7/dist-packages (from statsmodels) (0.5.2)\n",
            "Requirement already satisfied: scipy>=1.3 in /usr/local/lib/python3.7/dist-packages (from statsmodels) (1.4.1)\n",
            "Requirement already satisfied: packaging>=21.3 in /usr/local/lib/python3.7/dist-packages (from statsmodels) (21.3)\n",
            "Requirement already satisfied: pyparsing!=3.0.5,>=2.0.2 in /usr/local/lib/python3.7/dist-packages (from packaging>=21.3->statsmodels) (3.0.9)\n",
            "Requirement already satisfied: pytz>=2017.3 in /usr/local/lib/python3.7/dist-packages (from pandas>=0.25->statsmodels) (2022.1)\n",
            "Requirement already satisfied: python-dateutil>=2.7.3 in /usr/local/lib/python3.7/dist-packages (from pandas>=0.25->statsmodels) (2.8.2)\n",
            "Requirement already satisfied: six in /usr/local/lib/python3.7/dist-packages (from patsy>=0.5.2->statsmodels) (1.15.0)\n"
          ]
        }
      ]
    },
    {
      "cell_type": "code",
      "source": [
        "rmsel=[]"
      ],
      "metadata": {
        "id": "N2vyOgEI3hr4"
      },
      "execution_count": null,
      "outputs": []
    },
    {
      "cell_type": "markdown",
      "source": [
        " **AR(3) MODEL**"
      ],
      "metadata": {
        "id": "s-s4503iaEo8"
      }
    },
    {
      "cell_type": "code",
      "source": [
        "from statsmodels.tsa.ar_model import AutoReg\n",
        "from sklearn.metrics import mean_squared_error\n",
        "from math import sqrt\n",
        "\n",
        "X = sales_shift\n",
        "train, test = X[1:len(X)-7], X[len(X)-7:]\n",
        "\n",
        "# train autoregression\n",
        "model = AutoReg(train, lags=3)\n",
        "model_fit1 = model.fit()\n",
        "\n",
        "# Predictions\n",
        "print()\n",
        "predictions = model_fit1.predict(start=len(train), end=len(train)+len(test)-1, dynamic=False)\n",
        "\n",
        "#metrics\n",
        "rmse = sqrt(mean_squared_error(test, predictions))\n",
        "rmsel.append(rmse)\n",
        "print('\\n\\nTest RMSE: %.3f' % rmse)\n",
        "\n",
        "# plot results\n",
        "plt.plot(test,color='blue',label='Actual')\n",
        "plt.plot(predictions, color='red',label='Prediction')\n",
        "plt.legend(loc='best')\n",
        "plt.savefig('AR(3)')\n",
        "plt.show()\n"
      ],
      "metadata": {
        "colab": {
          "base_uri": "https://localhost:8080/",
          "height": 424
        },
        "id": "Y2h6PnVwAJKO",
        "outputId": "cfdcc417-ba84-4a2b-95b0-d839fd373435"
      },
      "execution_count": null,
      "outputs": [
        {
          "output_type": "stream",
          "name": "stderr",
          "text": [
            "/usr/local/lib/python3.7/dist-packages/statsmodels/tsa/base/tsa_model.py:471: ValueWarning: No frequency information was provided, so inferred frequency MS will be used.\n",
            "  self._init_dates(dates, freq)\n",
            "/usr/local/lib/python3.7/dist-packages/statsmodels/tsa/deterministic.py:302: UserWarning: Only PeriodIndexes, DatetimeIndexes with a frequency set, RangesIndexes, and Index with a unit increment support extending. The index is set will contain the position relative to the data length.\n",
            "  fcast_index = self._extend_index(index, steps, forecast_index)\n"
          ]
        },
        {
          "output_type": "stream",
          "name": "stdout",
          "text": [
            "\n",
            "\n",
            "\n",
            "Test RMSE: 0.272\n"
          ]
        },
        {
          "output_type": "display_data",
          "data": {
            "text/plain": [
              "<Figure size 432x288 with 1 Axes>"
            ],
            "image/png": "[encoded data removed]"
          },
          "metadata": {
            "needs_background": "light"
          }
        }
      ]
    },
    {
      "cell_type": "markdown",
      "source": [
        "**MA(2) MODEL**"
      ],
      "metadata": {
        "id": "CuWnQ5DTaLOQ"
      }
    },
    {
      "cell_type": "code",
      "source": [
        "from statsmodels.tsa.arima.model import ARIMA\n",
        "ARMA_model = ARIMA(train, order=(0,0,2))\n",
        "model2 = ARMA_model.fit()\n",
        "\n",
        "# Predictions\n",
        "print()\n",
        "predictions = model2.predict(start=len(train), end=len(train)+len(test)-1, dynamic=False)\n",
        "\n",
        "#metrics\n",
        "rmse = sqrt(mean_squared_error(test, predictions))\n",
        "rmsel.append(rmse)\n",
        "print('\\n\\nTest RMSE: %.3f' % rmse)\n",
        "\n",
        "# plot results\n",
        "plt.plot(test,color='blue',label='Actual')\n",
        "plt.plot(predictions, color='red',label='Prediction')\n",
        "plt.legend(loc='best')\n",
        "plt.savefig('MA(2)')\n",
        "plt.show()"
      ],
      "metadata": {
        "colab": {
          "base_uri": "https://localhost:8080/",
          "height": 463
        },
        "id": "fsJ9X-3SToDE",
        "outputId": "d6661378-3df2-49f8-cc90-4b9941eb4bf1"
      },
      "execution_count": null,
      "outputs": [
        {
          "output_type": "stream",
          "name": "stderr",
          "text": [
            "/usr/local/lib/python3.7/dist-packages/statsmodels/tsa/base/tsa_model.py:471: ValueWarning: No frequency information was provided, so inferred frequency MS will be used.\n",
            "  self._init_dates(dates, freq)\n",
            "/usr/local/lib/python3.7/dist-packages/statsmodels/tsa/base/tsa_model.py:471: ValueWarning: No frequency information was provided, so inferred frequency MS will be used.\n",
            "  self._init_dates(dates, freq)\n",
            "/usr/local/lib/python3.7/dist-packages/statsmodels/tsa/base/tsa_model.py:471: ValueWarning: No frequency information was provided, so inferred frequency MS will be used.\n",
            "  self._init_dates(dates, freq)\n"
          ]
        },
        {
          "output_type": "stream",
          "name": "stdout",
          "text": [
            "\n",
            "\n",
            "\n",
            "Test RMSE: 0.261\n"
          ]
        },
        {
          "output_type": "display_data",
          "data": {
            "text/plain": [
              "<Figure size 432x288 with 1 Axes>"
            ],
            "image/png": "[encoded data removed]"
          },
          "metadata": {
            "needs_background": "light"
          }
        }
      ]
    },
    {
      "cell_type": "markdown",
      "source": [
        "**ARIMA Model**"
      ],
      "metadata": {
        "id": "ZbFLiPRRWTb3"
      }
    },
    {
      "cell_type": "code",
      "source": [
        "# use ARIMA for forecasting\n",
        "from statsmodels.tsa.arima.model import ARIMA\n",
        "model=ARIMA(sales_shift,order=(3,1,2))\n",
        "model_fit3=model.fit()"
      ],
      "metadata": {
        "colab": {
          "base_uri": "https://localhost:8080/"
        },
        "id": "QbaDBVdeRecw",
        "outputId": "b2115491-4a9c-4067-92b6-d2e97c4aac1b"
      },
      "execution_count": null,
      "outputs": [
        {
          "output_type": "stream",
          "name": "stderr",
          "text": [
            "/usr/local/lib/python3.7/dist-packages/statsmodels/tsa/base/tsa_model.py:471: ValueWarning: No frequency information was provided, so inferred frequency MS will be used.\n",
            "  self._init_dates(dates, freq)\n",
            "/usr/local/lib/python3.7/dist-packages/statsmodels/tsa/base/tsa_model.py:471: ValueWarning: No frequency information was provided, so inferred frequency MS will be used.\n",
            "  self._init_dates(dates, freq)\n",
            "/usr/local/lib/python3.7/dist-packages/statsmodels/tsa/base/tsa_model.py:471: ValueWarning: No frequency information was provided, so inferred frequency MS will be used.\n",
            "  self._init_dates(dates, freq)\n",
            "/usr/local/lib/python3.7/dist-packages/statsmodels/tsa/statespace/sarimax.py:966: UserWarning: Non-stationary starting autoregressive parameters found. Using zeros as starting parameters.\n",
            "  warn('Non-stationary starting autoregressive parameters'\n",
            "/usr/local/lib/python3.7/dist-packages/statsmodels/tsa/statespace/sarimax.py:978: UserWarning: Non-invertible starting MA parameters found. Using zeros as starting parameters.\n",
            "  warn('Non-invertible starting MA parameters found.'\n"
          ]
        }
      ]
    },
    {
      "cell_type": "code",
      "source": [
        "sales_shift=sales_shift.to_frame()"
      ],
      "metadata": {
        "id": "OIv68gymSRqI"
      },
      "execution_count": null,
      "outputs": []
    },
    {
      "cell_type": "code",
      "source": [
        "sales_shift['Forecast_ARIMA']=model_fit3.predict(start=25,end=50,dynamic=True)"
      ],
      "metadata": {
        "id": "Ty-kcR6cUYUC"
      },
      "execution_count": null,
      "outputs": []
    },
    {
      "cell_type": "code",
      "source": [
        "rmse = sqrt(mean_squared_error(sales_shift['Sales'][25:].dropna(),sales_shift['Forecast_ARIMA'][25:].dropna()))\n",
        "rmsel.append(rmse)\n",
        "print('Test RMSE: %.3f' % rmse)"
      ],
      "metadata": {
        "colab": {
          "base_uri": "https://localhost:8080/"
        },
        "id": "ymt2rPcdWiSB",
        "outputId": "c5087be6-5f2f-4587-8485-7532d22c7373"
      },
      "execution_count": null,
      "outputs": [
        {
          "output_type": "stream",
          "name": "stdout",
          "text": [
            "Test RMSE: 0.258\n"
          ]
        }
      ]
    },
    {
      "cell_type": "code",
      "source": [
        "# plot forecast\n",
        "plt.plot(sales_shift['Sales'].dropna(),color='blue',label='Sales')\n",
        "plt.plot(sales_shift['Forecast_ARIMA'].dropna(),color='red',label='Forecast')\n",
        "plt.legend(loc='best')\n",
        "plt.savefig('ARIMA')"
      ],
      "metadata": {
        "colab": {
          "base_uri": "https://localhost:8080/",
          "height": 265
        },
        "id": "vFO36Z33RiVQ",
        "outputId": "7b4bac08-68eb-4f33-afc9-eeec18f60121"
      },
      "execution_count": null,
      "outputs": [
        {
          "output_type": "display_data",
          "data": {
            "text/plain": [
              "<Figure size 432x288 with 1 Axes>"
            ],
            "image/png": "[encoded data removed]"
          },
          "metadata": {
            "needs_background": "light"
          }
        }
      ]
    },
    {
      "cell_type": "markdown",
      "source": [
        "**SARIMA Model**"
      ],
      "metadata": {
        "id": "sGvRzXYyWcwu"
      }
    },
    {
      "cell_type": "code",
      "source": [
        "# use sarimax instead due to seasonality\n",
        "import statsmodels.api as sm\n",
        "model=sm.tsa.statespace.SARIMAX(sales_shift['Sales'].dropna(),order=(3, 1, 2),seasonal_order=(3,1,2,12))\n",
        "model4=model.fit()\n",
        "sales_shift['Forecast_SARIMA']=model4.predict(start=35,end=50,dynamic=True)\n",
        "sales_shift[['Sales','Forecast_SARIMA']].plot(color=['blue','red'],figsize=(12,8))\n",
        "plt.savefig('SARIMAX')"
      ],
      "metadata": {
        "colab": {
          "base_uri": "https://localhost:8080/",
          "height": 692
        },
        "id": "rXNy_DCaRlxP",
        "outputId": "1893d572-68cb-4670-b8f9-3d4f7b8d2bcc"
      },
      "execution_count": null,
      "outputs": [
        {
          "output_type": "stream",
          "name": "stderr",
          "text": [
            "/usr/local/lib/python3.7/dist-packages/statsmodels/tsa/base/tsa_model.py:471: ValueWarning: No frequency information was provided, so inferred frequency MS will be used.\n",
            "  self._init_dates(dates, freq)\n",
            "/usr/local/lib/python3.7/dist-packages/statsmodels/tsa/base/tsa_model.py:471: ValueWarning: No frequency information was provided, so inferred frequency MS will be used.\n",
            "  self._init_dates(dates, freq)\n",
            "/usr/local/lib/python3.7/dist-packages/statsmodels/tsa/statespace/sarimax.py:978: UserWarning: Non-invertible starting MA parameters found. Using zeros as starting parameters.\n",
            "  warn('Non-invertible starting MA parameters found.'\n",
            "/usr/local/lib/python3.7/dist-packages/statsmodels/tsa/statespace/sarimax.py:868: UserWarning: Too few observations to estimate starting parameters for seasonal ARMA. All parameters except for variances will be set to zeros.\n",
            "  ' zeros.' % warning_description)\n",
            "/usr/local/lib/python3.7/dist-packages/statsmodels/base/model.py:606: ConvergenceWarning: Maximum Likelihood optimization failed to converge. Check mle_retvals\n",
            "  ConvergenceWarning)\n"
          ]
        },
        {
          "output_type": "display_data",
          "data": {
            "text/plain": [
              "<Figure size 864x576 with 1 Axes>"
            ],
            "image/png": "[encoded data removed]"
          },
          "metadata": {
            "needs_background": "light"
          }
        }
      ]
    },
    {
      "cell_type": "code",
      "source": [
        "rmse = sqrt(mean_squared_error(sales_shift['Sales'][36:].dropna(),sales_shift['Forecast_SARIMA'][36:].dropna()))\n",
        "rmsel.append(rmse)\n",
        "print('Test RMSE: %.3f' % rmse)"
      ],
      "metadata": {
        "colab": {
          "base_uri": "https://localhost:8080/"
        },
        "id": "tYX63oAQXmkP",
        "outputId": "d453544d-5216-4f99-e811-77a7e940d537"
      },
      "execution_count": null,
      "outputs": [
        {
          "output_type": "stream",
          "name": "stdout",
          "text": [
            "Test RMSE: 0.241\n"
          ]
        }
      ]
    },
    {
      "cell_type": "code",
      "source": [
        "with open('rmse.txt', 'w') as f:\n",
        "    for i in rmsel:\n",
        "      f.write(str(i)+\"\\n\")\n"
      ],
      "metadata": {
        "id": "-oz1_-zQ4-3k"
      },
      "execution_count": null,
      "outputs": []
    },
    {
      "cell_type": "markdown",
      "source": [
        "We can observe the minimum RMSE is obtained when the data is fit into a SARIMAX model. Hence we use the same to predict future sales(until 2021)."
      ],
      "metadata": {
        "id": "aobf8hBM4PZc"
      }
    },
    {
      "cell_type": "code",
      "source": [
        "# extend forecast until 2021\n",
        "from pandas.tseries.offsets import DateOffset\n",
        "future_dates=[sales_shift.index[-1]+ DateOffset(months=x)for x in range(0,36)]\n",
        "future_datest_df=pd.DataFrame(index=future_dates[1:],columns=sales_shift.columns)\n",
        "\n",
        "future_datest_df.tail()\n",
        "\n",
        "future_df=pd.concat([sales_shift,future_datest_df])\n",
        "\n",
        "future_df['forecast'] = model4.predict(start = 43, end = 200, dynamic=True)\n",
        "future_df[['Sales', 'forecast']].plot(color=['blue','red'],label=['Sales','Forecast'],figsize=(12, 8))\n",
        "plt.savefig('future')"
      ],
      "metadata": {
        "colab": {
          "base_uri": "https://localhost:8080/",
          "height": 538
        },
        "id": "XDJ000_nRvoU",
        "outputId": "0b2b7c4a-6d56-42fe-e6e7-c0849833f919"
      },
      "execution_count": null,
      "outputs": [
        {
          "output_type": "stream",
          "name": "stderr",
          "text": [
            "/usr/local/lib/python3.7/dist-packages/pandas/core/indexes/base.py:1963: FutureWarning: Comparison of Timestamp with datetime.date is deprecated in order to match the standard library behavior.  In a future version these will be considered non-comparable.Use 'ts == pd.Timestamp(date)' or 'ts.date() == date' instead.\n",
            "  return self._engine.is_monotonic_increasing\n"
          ]
        },
        {
          "output_type": "display_data",
          "data": {
            "text/plain": [
              "<Figure size 864x576 with 1 Axes>"
            ],
            "image/png": "[encoded data removed]"
          },
          "metadata": {
            "needs_background": "light"
          }
        }
      ]
    }
  ]
}